{
  "nbformat": 4,
  "nbformat_minor": 0,
  "metadata": {
    "kernelspec": {
      "display_name": "Python 3",
      "language": "python",
      "name": "python3"
    },
    "language_info": {
      "codemirror_mode": {
        "name": "ipython",
        "version": 3
      },
      "file_extension": ".py",
      "mimetype": "text/x-python",
      "name": "python",
      "nbconvert_exporter": "python",
      "pygments_lexer": "ipython3",
      "version": "3.7.6"
    },
    "colab": {
      "name": "Coursework_r2.ipynb",
      "provenance": [],
      "include_colab_link": true
    }
  },
  "cells": [
    {
      "cell_type": "markdown",
      "metadata": {
        "id": "view-in-github",
        "colab_type": "text"
      },
      "source": [
        "<a href=\"https://colab.research.google.com/github/Svetorus/Python-Data-Science/blob/master/Coursework_r2.ipynb\" target=\"_parent\"><img src=\"https://colab.research.google.com/assets/colab-badge.svg\" alt=\"Open In Colab\"/></a>"
      ]
    },
    {
      "cell_type": "markdown",
      "metadata": {
        "id": "qFaOikcwccBK",
        "colab_type": "text"
      },
      "source": [
        "### Python для Data Science\n",
        "\n",
        "## Курсовой проект\n",
        "\n",
        "**Подключение библиотек и скриптов**"
      ]
    },
    {
      "cell_type": "code",
      "metadata": {
        "id": "VsumrgCoccBP",
        "colab_type": "code",
        "colab": {}
      },
      "source": [
        "import pandas as pd\n",
        "import numpy as np\n",
        "import itertools\n",
        "import random\n",
        "\n",
        "from sklearn.preprocessing import StandardScaler, MinMaxScaler\n",
        "from sklearn.decomposition import PCA\n",
        "from sklearn.model_selection import train_test_split, ShuffleSplit, cross_val_score, learning_curve\n",
        "from sklearn.model_selection import KFold, GridSearchCV, RandomizedSearchCV\n",
        "from sklearn.ensemble import RandomForestRegressor\n",
        "from catboost import Pool, CatBoostRegressor\n",
        "\n",
        "from sklearn.linear_model import LinearRegression\n",
        "import xgboost as xgb, lightgbm as lgbm, catboost as catb\n",
        "from sklearn.metrics import r2_score as r2\n",
        "\n",
        "import seaborn as sns\n",
        "from matplotlib import pyplot as plt\n",
        "%matplotlib inline"
      ],
      "execution_count": 0,
      "outputs": []
    },
    {
      "cell_type": "code",
      "metadata": {
        "id": "2oE3FvN2ccBd",
        "colab_type": "code",
        "colab": {}
      },
      "source": [
        "import warnings\n",
        "warnings.simplefilter('ignore')"
      ],
      "execution_count": 0,
      "outputs": []
    },
    {
      "cell_type": "markdown",
      "metadata": {
        "id": "gFqd-3R1ccBm",
        "colab_type": "text"
      },
      "source": [
        "### Задание:  \n",
        "\n",
        "Используя данные из train.csv, построить\n",
        "модель для предсказания цен на недвижимость (квартиры).\n",
        "С помощью полученной модели предсказать\n",
        "цены для квартир из файла test.csv.\n",
        "\n",
        "### Целевая переменная:  \n",
        "\n",
        "Price"
      ]
    },
    {
      "cell_type": "code",
      "metadata": {
        "id": "BMOtp-F4ccBp",
        "colab_type": "code",
        "colab": {}
      },
      "source": [
        "# filling values instead of NaN\n",
        "def fill_nan(df):\n",
        "    df['LifeSquare'] = df['LifeSquare'].fillna(df['Square'].mean())\n",
        "    df['Healthcare_1'] = df['Healthcare_1'].fillna(df['Healthcare_1'].mean())\n",
        "    return df"
      ],
      "execution_count": 0,
      "outputs": []
    },
    {
      "cell_type": "code",
      "metadata": {
        "id": "Q4z2J9trccBx",
        "colab_type": "code",
        "colab": {}
      },
      "source": [
        "# changing HouseYear\n",
        "def clean_year(df):\n",
        "    df.loc[(~df['HouseYear'].between(1850, 2020)),'HouseYear'] = 1969\n",
        "    return df"
      ],
      "execution_count": 0,
      "outputs": []
    },
    {
      "cell_type": "code",
      "metadata": {
        "id": "LUqi6oYrccCB",
        "colab_type": "code",
        "colab": {}
      },
      "source": [
        "# changing Rooms from 0 \n",
        "def zero_rooms_change(df):\n",
        "    df.loc[df['Rooms'] == 0 , 'Rooms'] = df['Square']//20\n",
        "    df.loc[df['Rooms'] == 0 , 'Rooms'] = 1\n",
        "    return df"
      ],
      "execution_count": 0,
      "outputs": []
    },
    {
      "cell_type": "code",
      "metadata": {
        "id": "McN2SkZyccCJ",
        "colab_type": "code",
        "colab": {}
      },
      "source": [
        "# Kitchensquare cleaning\n",
        "def clean_kitchensquare(df):\n",
        "    df.loc[df['KitchenSquare'] > 25,'KitchenSquare'] = 8\n",
        "    return df"
      ],
      "execution_count": 0,
      "outputs": []
    },
    {
      "cell_type": "code",
      "metadata": {
        "id": "oAiDuXUvccCO",
        "colab_type": "code",
        "colab": {}
      },
      "source": [
        "def clean_data(df):\n",
        "    df = fill_nan(df)\n",
        "    df = clean_year(df)\n",
        "    df = zero_rooms_change(df)\n",
        "    df = clean_kitchensquare(df)\n",
        "\n",
        "    return df    "
      ],
      "execution_count": 0,
      "outputs": []
    },
    {
      "cell_type": "code",
      "metadata": {
        "id": "VvZlL4kLccCV",
        "colab_type": "code",
        "colab": {}
      },
      "source": [
        "# object DataFrame with grouped values\n",
        "def price_for_meter(df):\n",
        "    df['PriceForMeter'] = df['Price']/df['Square']\n",
        "    return df"
      ],
      "execution_count": 0,
      "outputs": []
    },
    {
      "cell_type": "markdown",
      "metadata": {
        "id": "9vKuL0RuccCc",
        "colab_type": "text"
      },
      "source": [
        "### Загружаем данные"
      ]
    },
    {
      "cell_type": "code",
      "metadata": {
        "id": "Jt8wR7bdccCf",
        "colab_type": "code",
        "colab": {}
      },
      "source": [
        "df_train = pd.read_csv('train.csv')\n",
        "#data.head()"
      ],
      "execution_count": 0,
      "outputs": []
    },
    {
      "cell_type": "code",
      "metadata": {
        "id": "NnlIjfsPccCl",
        "colab_type": "code",
        "colab": {}
      },
      "source": [
        "df_test = pd.read_csv('test.csv')\n",
        "#test.head()"
      ],
      "execution_count": 0,
      "outputs": []
    },
    {
      "cell_type": "markdown",
      "metadata": {
        "id": "SkCES2IVccCu",
        "colab_type": "text"
      },
      "source": [
        "## Обзор данных"
      ]
    },
    {
      "cell_type": "code",
      "metadata": {
        "id": "vCBBYLcsccCv",
        "colab_type": "code",
        "colab": {},
        "outputId": "d9639c05-42fa-4a79-daea-199dd9cf0bf7"
      },
      "source": [
        "df_train.iloc[0]"
      ],
      "execution_count": 0,
      "outputs": [
        {
          "output_type": "execute_result",
          "data": {
            "text/plain": [
              "Id                   14038\n",
              "DistrictId              35\n",
              "Rooms                    2\n",
              "Square             47.9816\n",
              "LifeSquare         29.4428\n",
              "KitchenSquare            6\n",
              "Floor                    7\n",
              "HouseFloor               9\n",
              "HouseYear             1969\n",
              "Ecology_1        0.0890397\n",
              "Ecology_2                B\n",
              "Ecology_3                B\n",
              "Social_1                33\n",
              "Social_2              7976\n",
              "Social_3                 5\n",
              "Healthcare_1           NaN\n",
              "Helthcare_2              0\n",
              "Shops_1                 11\n",
              "Shops_2                  B\n",
              "Price               184967\n",
              "Name: 0, dtype: object"
            ]
          },
          "metadata": {
            "tags": []
          },
          "execution_count": 11
        }
      ]
    },
    {
      "cell_type": "code",
      "metadata": {
        "id": "I0JS3v2jccC5",
        "colab_type": "code",
        "colab": {},
        "outputId": "db7a2c13-7688-4d8e-9970-f37049bd0349"
      },
      "source": [
        "df_train.info()"
      ],
      "execution_count": 0,
      "outputs": [
        {
          "output_type": "stream",
          "text": [
            "<class 'pandas.core.frame.DataFrame'>\n",
            "RangeIndex: 10000 entries, 0 to 9999\n",
            "Data columns (total 20 columns):\n",
            " #   Column         Non-Null Count  Dtype  \n",
            "---  ------         --------------  -----  \n",
            " 0   Id             10000 non-null  int64  \n",
            " 1   DistrictId     10000 non-null  int64  \n",
            " 2   Rooms          10000 non-null  float64\n",
            " 3   Square         10000 non-null  float64\n",
            " 4   LifeSquare     7887 non-null   float64\n",
            " 5   KitchenSquare  10000 non-null  float64\n",
            " 6   Floor          10000 non-null  int64  \n",
            " 7   HouseFloor     10000 non-null  float64\n",
            " 8   HouseYear      10000 non-null  int64  \n",
            " 9   Ecology_1      10000 non-null  float64\n",
            " 10  Ecology_2      10000 non-null  object \n",
            " 11  Ecology_3      10000 non-null  object \n",
            " 12  Social_1       10000 non-null  int64  \n",
            " 13  Social_2       10000 non-null  int64  \n",
            " 14  Social_3       10000 non-null  int64  \n",
            " 15  Healthcare_1   5202 non-null   float64\n",
            " 16  Helthcare_2    10000 non-null  int64  \n",
            " 17  Shops_1        10000 non-null  int64  \n",
            " 18  Shops_2        10000 non-null  object \n",
            " 19  Price          10000 non-null  float64\n",
            "dtypes: float64(8), int64(9), object(3)\n",
            "memory usage: 1.5+ MB\n"
          ],
          "name": "stdout"
        }
      ]
    },
    {
      "cell_type": "markdown",
      "metadata": {
        "id": "vbOZaEYxccC_",
        "colab_type": "text"
      },
      "source": [
        "### Количество пропущенных значений (в процентах)"
      ]
    },
    {
      "cell_type": "code",
      "metadata": {
        "id": "NWzpE5OwccDA",
        "colab_type": "code",
        "colab": {},
        "outputId": "f5a45703-102a-471f-dd06-8bbb8fb9e23d"
      },
      "source": [
        "round((len(df_train) - df_train.count()) / len(df_train) * 100, 2).sort_values(ascending=False).head()"
      ],
      "execution_count": 0,
      "outputs": [
        {
          "output_type": "execute_result",
          "data": {
            "text/plain": [
              "Healthcare_1    47.98\n",
              "LifeSquare      21.13\n",
              "Price            0.00\n",
              "HouseYear        0.00\n",
              "DistrictId       0.00\n",
              "dtype: float64"
            ]
          },
          "metadata": {
            "tags": []
          },
          "execution_count": 13
        }
      ]
    },
    {
      "cell_type": "markdown",
      "metadata": {
        "id": "5alQTL5UccDH",
        "colab_type": "text"
      },
      "source": [
        "### Количество уникальных значений по каждому из признаков"
      ]
    },
    {
      "cell_type": "code",
      "metadata": {
        "id": "YB4RLf6uccDJ",
        "colab_type": "code",
        "colab": {},
        "outputId": "90a621e9-489e-4532-8154-bf1ee98c8c7c"
      },
      "source": [
        "df_train.nunique().sort_values()"
      ],
      "execution_count": 0,
      "outputs": [
        {
          "output_type": "execute_result",
          "data": {
            "text/plain": [
              "Shops_2              2\n",
              "Ecology_2            2\n",
              "Ecology_3            2\n",
              "Helthcare_2          7\n",
              "Rooms                9\n",
              "Shops_1             16\n",
              "Social_3            30\n",
              "Floor               33\n",
              "HouseFloor          44\n",
              "Social_1            51\n",
              "KitchenSquare       58\n",
              "Healthcare_1        79\n",
              "HouseYear           97\n",
              "Ecology_1          129\n",
              "Social_2           142\n",
              "DistrictId         205\n",
              "LifeSquare        7887\n",
              "Id               10000\n",
              "Square           10000\n",
              "Price            10000\n",
              "dtype: int64"
            ]
          },
          "metadata": {
            "tags": []
          },
          "execution_count": 14
        }
      ]
    },
    {
      "cell_type": "markdown",
      "metadata": {
        "id": "RwF_8j04ccDO",
        "colab_type": "text"
      },
      "source": [
        "### Приведение типов"
      ]
    },
    {
      "cell_type": "code",
      "metadata": {
        "id": "d2dqkb5xccDP",
        "colab_type": "code",
        "colab": {},
        "outputId": "4bd3e069-3f17-4d81-db41-53857093d8b9"
      },
      "source": [
        "df_train.dtypes"
      ],
      "execution_count": 0,
      "outputs": [
        {
          "output_type": "execute_result",
          "data": {
            "text/plain": [
              "Id                 int64\n",
              "DistrictId         int64\n",
              "Rooms            float64\n",
              "Square           float64\n",
              "LifeSquare       float64\n",
              "KitchenSquare    float64\n",
              "Floor              int64\n",
              "HouseFloor       float64\n",
              "HouseYear          int64\n",
              "Ecology_1        float64\n",
              "Ecology_2         object\n",
              "Ecology_3         object\n",
              "Social_1           int64\n",
              "Social_2           int64\n",
              "Social_3           int64\n",
              "Healthcare_1     float64\n",
              "Helthcare_2        int64\n",
              "Shops_1            int64\n",
              "Shops_2           object\n",
              "Price            float64\n",
              "dtype: object"
            ]
          },
          "metadata": {
            "tags": []
          },
          "execution_count": 15
        }
      ]
    },
    {
      "cell_type": "markdown",
      "metadata": {
        "id": "yGEFPkwOccDW",
        "colab_type": "text"
      },
      "source": [
        "### Анализ целевой переменной"
      ]
    },
    {
      "cell_type": "markdown",
      "metadata": {
        "id": "iYB1uaoVccDX",
        "colab_type": "text"
      },
      "source": [
        "### Анализ линейных зависимостей в признаковом пространстве"
      ]
    },
    {
      "cell_type": "markdown",
      "metadata": {
        "id": "_xGQxRgMccDZ",
        "colab_type": "raw"
      },
      "source": [
        "df=df_train\n",
        "plt.figure(figsize=(25,18), dpi= 80)\n",
        "sns.heatmap(df.corr(), xticklabels=df.corr().columns, yticklabels=df.corr().columns, cmap='RdYlGn', center=0, annot=True)\n",
        "\n",
        "#### Decorations\n",
        "plt.title('Correlation matrix', fontsize=22)\n",
        "plt.xticks(fontsize=12)\n",
        "plt.yticks(fontsize=12)\n",
        "plt.show()"
      ]
    },
    {
      "cell_type": "markdown",
      "metadata": {
        "id": "-VvMPJ5kccDa",
        "colab_type": "text"
      },
      "source": [
        "### Смотрим зависимости между фичами"
      ]
    },
    {
      "cell_type": "code",
      "metadata": {
        "id": "Vgv2mn-sccDb",
        "colab_type": "code",
        "colab": {}
      },
      "source": [
        "import numpy as np\n",
        "from catboost import Pool, CatBoostRegressor\n",
        "cat_features = [i for i, (col, ser) in enumerate(df_train.iteritems()) if ser.dtype == object]\n",
        "pool = Pool(data=df_train.iloc[:, :-1], label=df_train.iloc[:, -1], cat_features=cat_features)\n",
        "\n",
        "model = CatBoostRegressor(iterations=100, \n",
        "                          depth=2,silent=True, \n",
        "                          loss_function='RMSE')\n",
        "\n",
        "model.fit(pool)\n",
        "\n",
        "preds = model.get_feature_importance(data=pool, type='Interaction')\n",
        "#print(preds)"
      ],
      "execution_count": 0,
      "outputs": []
    },
    {
      "cell_type": "markdown",
      "metadata": {
        "id": "c4-K07aEccDn",
        "colab_type": "raw"
      },
      "source": [
        "for i in range(len(preds)):\n",
        "    print(i)\n",
        "    if type(preds[i]) is list:\n",
        "        print(i)"
      ]
    },
    {
      "cell_type": "code",
      "metadata": {
        "id": "-MsHVP0pccDo",
        "colab_type": "code",
        "colab": {}
      },
      "source": [
        "data_new_fichy = pd.DataFrame({'f_col':[i[0] for i in preds],\n",
        "                  's_col':[i[1] for i in preds],\n",
        "                  'interest':[i[2] for i in preds]})"
      ],
      "execution_count": 0,
      "outputs": []
    },
    {
      "cell_type": "code",
      "metadata": {
        "id": "SbLN5WJZccDs",
        "colab_type": "code",
        "colab": {},
        "outputId": "0c694593-c7bd-46b4-f25f-103941df4754"
      },
      "source": [
        "number_fich = dict(enumerate(df_train.iloc[0:0,1:].columns, start=1))\n",
        "for i in data_new_fichy['f_col']:\n",
        "    if i in number_fich:\n",
        "        data_new_fichy.loc[data_new_fichy['f_col']==i,'f_col']=number_fich[i]\n",
        "for i in data_new_fichy['s_col']:\n",
        "    if i in number_fich:\n",
        "        data_new_fichy.loc[data_new_fichy['s_col']==i,'s_col']=number_fich[i]      \n",
        "data_new_fichy.head(12)"
      ],
      "execution_count": 0,
      "outputs": [
        {
          "output_type": "execute_result",
          "data": {
            "text/html": [
              "<div>\n",
              "<style scoped>\n",
              "    .dataframe tbody tr th:only-of-type {\n",
              "        vertical-align: middle;\n",
              "    }\n",
              "\n",
              "    .dataframe tbody tr th {\n",
              "        vertical-align: top;\n",
              "    }\n",
              "\n",
              "    .dataframe thead th {\n",
              "        text-align: right;\n",
              "    }\n",
              "</style>\n",
              "<table border=\"1\" class=\"dataframe\">\n",
              "  <thead>\n",
              "    <tr style=\"text-align: right;\">\n",
              "      <th></th>\n",
              "      <th>f_col</th>\n",
              "      <th>s_col</th>\n",
              "      <th>interest</th>\n",
              "    </tr>\n",
              "  </thead>\n",
              "  <tbody>\n",
              "    <tr>\n",
              "      <th>0</th>\n",
              "      <td>Square</td>\n",
              "      <td>Social_1</td>\n",
              "      <td>18.754763</td>\n",
              "    </tr>\n",
              "    <tr>\n",
              "      <th>1</th>\n",
              "      <td>Square</td>\n",
              "      <td>Social_2</td>\n",
              "      <td>18.438336</td>\n",
              "    </tr>\n",
              "    <tr>\n",
              "      <th>2</th>\n",
              "      <td>Square</td>\n",
              "      <td>Social_3</td>\n",
              "      <td>11.606640</td>\n",
              "    </tr>\n",
              "    <tr>\n",
              "      <th>3</th>\n",
              "      <td>Square</td>\n",
              "      <td>Shops_1</td>\n",
              "      <td>10.489579</td>\n",
              "    </tr>\n",
              "    <tr>\n",
              "      <th>4</th>\n",
              "      <td>DistrictId</td>\n",
              "      <td>Square</td>\n",
              "      <td>9.364158</td>\n",
              "    </tr>\n",
              "    <tr>\n",
              "      <th>5</th>\n",
              "      <td>DistrictId</td>\n",
              "      <td>Social_3</td>\n",
              "      <td>3.530451</td>\n",
              "    </tr>\n",
              "    <tr>\n",
              "      <th>6</th>\n",
              "      <td>Ecology_1</td>\n",
              "      <td>Social_3</td>\n",
              "      <td>3.376996</td>\n",
              "    </tr>\n",
              "    <tr>\n",
              "      <th>7</th>\n",
              "      <td>Rooms</td>\n",
              "      <td>KitchenSquare</td>\n",
              "      <td>3.328072</td>\n",
              "    </tr>\n",
              "    <tr>\n",
              "      <th>8</th>\n",
              "      <td>Square</td>\n",
              "      <td>Ecology_1</td>\n",
              "      <td>3.271021</td>\n",
              "    </tr>\n",
              "    <tr>\n",
              "      <th>9</th>\n",
              "      <td>Square</td>\n",
              "      <td>KitchenSquare</td>\n",
              "      <td>2.781320</td>\n",
              "    </tr>\n",
              "    <tr>\n",
              "      <th>10</th>\n",
              "      <td>Ecology_1</td>\n",
              "      <td>Social_1</td>\n",
              "      <td>2.438461</td>\n",
              "    </tr>\n",
              "    <tr>\n",
              "      <th>11</th>\n",
              "      <td>Rooms</td>\n",
              "      <td>Social_3</td>\n",
              "      <td>2.111765</td>\n",
              "    </tr>\n",
              "  </tbody>\n",
              "</table>\n",
              "</div>"
            ],
            "text/plain": [
              "         f_col          s_col   interest\n",
              "0       Square       Social_1  18.754763\n",
              "1       Square       Social_2  18.438336\n",
              "2       Square       Social_3  11.606640\n",
              "3       Square        Shops_1  10.489579\n",
              "4   DistrictId         Square   9.364158\n",
              "5   DistrictId       Social_3   3.530451\n",
              "6    Ecology_1       Social_3   3.376996\n",
              "7        Rooms  KitchenSquare   3.328072\n",
              "8       Square      Ecology_1   3.271021\n",
              "9       Square  KitchenSquare   2.781320\n",
              "10   Ecology_1       Social_1   2.438461\n",
              "11       Rooms       Social_3   2.111765"
            ]
          },
          "metadata": {
            "tags": []
          },
          "execution_count": 19
        }
      ]
    },
    {
      "cell_type": "code",
      "metadata": {
        "id": "KtFUn2TjccDz",
        "colab_type": "code",
        "colab": {},
        "outputId": "c938427e-fa39-4de5-ac52-ff2bd6f7604d"
      },
      "source": [
        "fig = plt.figure(figsize=(16, 10), dpi= 80)\n",
        "sns.barplot(x='f_col', y='interest', hue='s_col', data=data_new_fichy)\n",
        "plt.legend(loc='upper right');"
      ],
      "execution_count": 0,
      "outputs": [
        {
          "output_type": "display_data",
          "data": {
            "image/png": "[encoded data removed]",
            "text/plain": [
              "<Figure size 1280x800 with 1 Axes>"
            ]
          },
          "metadata": {
            "tags": [],
            "needs_background": "light"
          }
        }
      ]
    },
    {
      "cell_type": "markdown",
      "metadata": {
        "id": "M3cOxQPkccD2",
        "colab_type": "text"
      },
      "source": [
        "### test split"
      ]
    },
    {
      "cell_type": "code",
      "metadata": {
        "id": "CDIq3Ew6ccD5",
        "colab_type": "code",
        "colab": {}
      },
      "source": [
        "train, valid = train_test_split(df_train,  test_size=0.3, random_state=42)"
      ],
      "execution_count": 0,
      "outputs": []
    },
    {
      "cell_type": "markdown",
      "metadata": {
        "id": "i0OTODRjccD8",
        "colab_type": "text"
      },
      "source": [
        "### Target(Price)"
      ]
    },
    {
      "cell_type": "code",
      "metadata": {
        "id": "ShBAin3MccD9",
        "colab_type": "code",
        "colab": {}
      },
      "source": [
        "y_train = pd.DataFrame(train['Price'])\n",
        "y_valid = pd.DataFrame(valid['Price'])"
      ],
      "execution_count": 0,
      "outputs": []
    },
    {
      "cell_type": "markdown",
      "metadata": {
        "id": "nzuvU8AGccEB",
        "colab_type": "text"
      },
      "source": [
        "### Обработка данных"
      ]
    },
    {
      "cell_type": "code",
      "metadata": {
        "id": "p9f1yN_8ccEC",
        "colab_type": "code",
        "colab": {}
      },
      "source": [
        "# Train\n",
        "# Price For Meter column added\n",
        "flats_prices = price_for_meter(train)"
      ],
      "execution_count": 0,
      "outputs": []
    },
    {
      "cell_type": "code",
      "metadata": {
        "id": "3NuJLHvHccEH",
        "colab_type": "code",
        "colab": {}
      },
      "source": [
        "flats_prices_clean = clean_data(flats_prices)"
      ],
      "execution_count": 0,
      "outputs": []
    },
    {
      "cell_type": "code",
      "metadata": {
        "id": "QovalmJ3ccEK",
        "colab_type": "code",
        "colab": {}
      },
      "source": [
        "# Valid\n",
        "flats_prices_valid_clean = valid.drop('Price', axis = 1)"
      ],
      "execution_count": 0,
      "outputs": []
    },
    {
      "cell_type": "code",
      "metadata": {
        "id": "m6hwIQxxccEQ",
        "colab_type": "code",
        "colab": {}
      },
      "source": [
        "flats_prices_valid_clean = clean_data(flats_prices_valid_clean)"
      ],
      "execution_count": 0,
      "outputs": []
    },
    {
      "cell_type": "code",
      "metadata": {
        "id": "NDXCRQQEccEU",
        "colab_type": "code",
        "colab": {}
      },
      "source": [
        "# Test\n",
        "df_test = clean_data(df_test)"
      ],
      "execution_count": 0,
      "outputs": []
    },
    {
      "cell_type": "code",
      "metadata": {
        "id": "oRhE0dhtccEW",
        "colab_type": "code",
        "colab": {}
      },
      "source": [
        "# adding a column with mean price for square meter in each district to train and valid datasets\n",
        "district_mean_priceformeter = flats_prices_clean.groupby('DistrictId', as_index=False)['PriceForMeter'].mean().rename\\\n",
        "            (columns={'PriceForMeter': 'MeanPricePerMeterDist'})\n",
        "flats_prices_clean = pd.merge(flats_prices_clean, district_mean_priceformeter, on='DistrictId', how='left')\n",
        "flats_prices_valid_clean = pd.merge(flats_prices_valid_clean, district_mean_priceformeter, on='DistrictId', how='left')"
      ],
      "execution_count": 0,
      "outputs": []
    },
    {
      "cell_type": "code",
      "metadata": {
        "id": "WY8Ob8EYccEa",
        "colab_type": "code",
        "colab": {}
      },
      "source": [
        "# Test\n",
        "# adding a column with mean price for square meter in each district to test dataset\n",
        "df_test = pd.merge(df_test, district_mean_priceformeter, on='DistrictId', how='left')"
      ],
      "execution_count": 0,
      "outputs": []
    },
    {
      "cell_type": "code",
      "metadata": {
        "id": "jjgscGj9ccEd",
        "colab_type": "code",
        "colab": {}
      },
      "source": [
        "# Train\n",
        "# Drop Price and Price For Meter\n",
        "flats_prices_clean = flats_prices_clean.drop('Price', axis = 1)\n",
        "flats_prices_clean = flats_prices_clean.drop('PriceForMeter', axis = 1)"
      ],
      "execution_count": 0,
      "outputs": []
    },
    {
      "cell_type": "code",
      "metadata": {
        "id": "XEsrjIkdccEg",
        "colab_type": "code",
        "colab": {}
      },
      "source": [
        "# Train dummies\n",
        "flats_prices_clean = pd.get_dummies(flats_prices_clean)\n",
        "feats = flats_prices_clean.columns"
      ],
      "execution_count": 0,
      "outputs": []
    },
    {
      "cell_type": "code",
      "metadata": {
        "id": "yrmx73qqccEj",
        "colab_type": "code",
        "colab": {}
      },
      "source": [
        "# valid\n",
        "flats_prices_valid_clean['MeanPricePerMeterDist'] = flats_prices_valid_clean['MeanPricePerMeterDist'].fillna(flats_prices_valid_clean['MeanPricePerMeterDist'].mean())"
      ],
      "execution_count": 0,
      "outputs": []
    },
    {
      "cell_type": "code",
      "metadata": {
        "id": "NaGDL5uPccEm",
        "colab_type": "code",
        "colab": {}
      },
      "source": [
        "# Test\n",
        "df_test['MeanPricePerMeterDist'] =  df_test['MeanPricePerMeterDist'].fillna(df_test['MeanPricePerMeterDist'].mean())"
      ],
      "execution_count": 0,
      "outputs": []
    },
    {
      "cell_type": "code",
      "metadata": {
        "id": "Dh1GeeTHccEq",
        "colab_type": "code",
        "colab": {}
      },
      "source": [
        "# valid dummies\n",
        "flats_prices_valid_clean = pd.get_dummies(flats_prices_valid_clean)"
      ],
      "execution_count": 0,
      "outputs": []
    },
    {
      "cell_type": "code",
      "metadata": {
        "id": "fnP6jBh8ccEu",
        "colab_type": "code",
        "colab": {}
      },
      "source": [
        "# Test dummies\n",
        "df_test = pd.get_dummies(df_test)"
      ],
      "execution_count": 0,
      "outputs": []
    },
    {
      "cell_type": "markdown",
      "metadata": {
        "id": "kQxng1mFccEw",
        "colab_type": "text"
      },
      "source": [
        "### RandomForestRegressor"
      ]
    },
    {
      "cell_type": "code",
      "metadata": {
        "id": "3tRgptvIccEx",
        "colab_type": "code",
        "colab": {}
      },
      "source": [
        "rfr = RandomForestRegressor(max_depth=21, max_features=4, n_estimators=250, random_state=42)"
      ],
      "execution_count": 0,
      "outputs": []
    },
    {
      "cell_type": "code",
      "metadata": {
        "id": "WzOxSsJ1ccE0",
        "colab_type": "code",
        "colab": {},
        "outputId": "858077a0-3402-4d62-c65d-a3abc2fea309"
      },
      "source": [
        "rfr.fit(flats_prices_clean, y_train)"
      ],
      "execution_count": 0,
      "outputs": [
        {
          "output_type": "execute_result",
          "data": {
            "text/plain": [
              "RandomForestRegressor(bootstrap=True, ccp_alpha=0.0, criterion='mse',\n",
              "                      max_depth=21, max_features=4, max_leaf_nodes=None,\n",
              "                      max_samples=None, min_impurity_decrease=0.0,\n",
              "                      min_impurity_split=None, min_samples_leaf=1,\n",
              "                      min_samples_split=2, min_weight_fraction_leaf=0.0,\n",
              "                      n_estimators=250, n_jobs=None, oob_score=False,\n",
              "                      random_state=42, verbose=0, warm_start=False)"
            ]
          },
          "metadata": {
            "tags": []
          },
          "execution_count": 38
        }
      ]
    },
    {
      "cell_type": "code",
      "metadata": {
        "id": "ElzGglyQccE5",
        "colab_type": "code",
        "colab": {}
      },
      "source": [
        "y_pred_clean = rfr.predict(flats_prices_valid_clean)"
      ],
      "execution_count": 0,
      "outputs": []
    },
    {
      "cell_type": "code",
      "metadata": {
        "id": "UdIT9yYCccE8",
        "colab_type": "code",
        "colab": {},
        "outputId": "578f2815-fd7f-492b-87a6-b96ea9ab441f"
      },
      "source": [
        "np.array(cross_val_score(rfr, flats_prices_clean, y_train, cv=5)).mean()"
      ],
      "execution_count": 0,
      "outputs": [
        {
          "output_type": "execute_result",
          "data": {
            "text/plain": [
              "0.758333049230461"
            ]
          },
          "metadata": {
            "tags": []
          },
          "execution_count": 40
        }
      ]
    },
    {
      "cell_type": "code",
      "metadata": {
        "id": "lR11OX2RccFA",
        "colab_type": "code",
        "colab": {},
        "outputId": "ddd0f5bb-3170-4176-b1ca-a9fe77a2b1b2"
      },
      "source": [
        "r2(y_valid, y_pred_clean)"
      ],
      "execution_count": 0,
      "outputs": [
        {
          "output_type": "execute_result",
          "data": {
            "text/plain": [
              "0.733660075644984"
            ]
          },
          "metadata": {
            "tags": []
          },
          "execution_count": 41
        }
      ]
    },
    {
      "cell_type": "code",
      "metadata": {
        "id": "pG77BCVIccFF",
        "colab_type": "code",
        "colab": {}
      },
      "source": [
        ""
      ],
      "execution_count": 0,
      "outputs": []
    }
  ]
}