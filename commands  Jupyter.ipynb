{
 "cells": [
  {
   "cell_type": "markdown",
   "id": "73c1ec58",
   "metadata": {},
   "source": [
    "### Начало\n",
    "<div class=\"toc\" style=\"margin-top: 1em;\"><ul class=\"toc-item\"><li><span><a href=\"#Ссылки-на-Графики\" data-toc-modified-id=\"Ссылки-на-Графики-0.0.1\">Ссылки на Графики</a></span></li></ul></div>"
   ]
  },
  {
   "cell_type": "code",
   "execution_count": null,
   "id": "de6b6237",
   "metadata": {},
   "outputs": [],
   "source": [
    "<div class=\"toc\" style=\"margin-top: 1em;\"><ul class=\"toc-item\"><li><span><a href=\"#Ссылки-на-Графики\" data-toc-modified-id=\"Ссылки-на-Графики-0.0.1\">Ссылки на Графики</a></span></li></ul></div>"
   ]
  },
  {
   "cell_type": "markdown",
   "id": "a96fd6d3",
   "metadata": {},
   "source": [
    "### Загрузить<font color=\"green\"> библиотеки </font>"
   ]
  },
  {
   "cell_type": "code",
   "execution_count": null,
   "id": "96195f48",
   "metadata": {},
   "outputs": [],
   "source": [
    "### Загрузить<font color=\"green\"> библиотеки </font>"
   ]
  },
  {
   "cell_type": "code",
   "execution_count": null,
   "id": "762c5dcb",
   "metadata": {},
   "outputs": [],
   "source": [
    "# !python -m pip install --upgrade pip\n",
    "# !pip install seaborn==0.9.0\n",
    "# print(sns.__version__)"
   ]
  },
  {
   "cell_type": "code",
   "execution_count": 3,
   "id": "8bc5a8b8",
   "metadata": {},
   "outputs": [],
   "source": [
    "# библиотеки\n",
    "import pandas as pd\n",
    "import numpy as np\n",
    "import itertools\n",
    "import random\n",
    "import pylab, math\n",
    "\n",
    "from sklearn.preprocessing import StandardScaler, MinMaxScaler\n",
    "from sklearn.decomposition import PCA\n",
    "from sklearn.cluster import KMeans\n",
    "from sklearn.model_selection import train_test_split, ShuffleSplit, cross_val_score, learning_curve\n",
    "from sklearn.model_selection import KFold, GridSearchCV, RandomizedSearchCV\n",
    "from sklearn.metrics import classification_report, f1_score, precision_score, recall_score\n",
    "from sklearn.utils.class_weight import compute_class_weight\n",
    "\n",
    "from sklearn.linear_model import LogisticRegression, LinearRegression\n",
    "from sklearn.ensemble import RandomForestClassifier\n",
    "import xgboost as xgb, lightgbm as lgbm, catboost as catb\n",
    "\n",
    "import seaborn as sns\n",
    "from matplotlib import pyplot as plt\n",
    "from mpl_toolkits.mplot3d import Axes3D\n",
    "from matplotlib.pyplot import (axes,axis,title,legend,figure,\n",
    "                               xlabel,ylabel,xticks,yticks,\n",
    "                               xscale,yscale,text,grid,\n",
    "                               plot,scatter,errorbar,hist,polar,\n",
    "                               contour,contourf,colorbar,clabel,\n",
    "                               imshow)\n",
    "from numpy import (linspace,logspace,zeros,ones,outer,meshgrid,\n",
    "                   pi,sin,cos,sqrt,exp)\n",
    "%matplotlib inline"
   ]
  },
  {
   "cell_type": "code",
   "execution_count": 2,
   "id": "fed97afe",
   "metadata": {},
   "outputs": [],
   "source": [
    "# Игнорирует предупреждения об обновлениях\n",
    "import warnings\n",
    "\n",
    "warnings.filterwarnings('ignore')"
   ]
  },
  {
   "cell_type": "markdown",
   "id": "eafce5f5",
   "metadata": {},
   "source": [
    "### Читать фаил CSV"
   ]
  },
  {
   "cell_type": "code",
   "execution_count": null,
   "id": "808ca189",
   "metadata": {},
   "outputs": [],
   "source": [
    "#sep разделитель по пробелу(в данном случае)\n",
    "df = pd.read_csv('./dataset_209770_6.txt', sep=' ', )\n",
    "train = pd.read_csv(\"./train_data.csv\") #index_col=\"name col\", parse_date=True) df['2011-02':'2011-04'] .resample('1w')"
   ]
  },
  {
   "cell_type": "code",
   "execution_count": 2,
   "id": "eeec0689",
   "metadata": {},
   "outputs": [],
   "source": [
    "# Загружаем таблицу.Открываем фаил, с Кодировкой и без заголовка.\n",
    "df = pd.read_csv('./test_case_synth_data.csv', encoding='utf8',header=None)"
   ]
  },
  {
   "cell_type": "markdown",
   "id": "553b1a08",
   "metadata": {},
   "source": [
    "#### Запись CSV"
   ]
  },
  {
   "cell_type": "code",
   "execution_count": null,
   "id": "c3cc2e4b",
   "metadata": {},
   "outputs": [],
   "source": [
    "# Сохранение CSV\n",
    "df.to_csv('file1.csv')\n",
    "# Сохранение CSV без заголовков и индекса\n",
    "df.to_csv('file2.csv', header=False, index=False)\n",
    "# Сохранить CSV-файл в указанное место\n",
    "df.to_csv(r'C:\\Users\\Admin\\Desktop\\file3.csv', index=False)\n",
    "# Сохранить CSV-файл с колонками 'Id' и 'Price'\n",
    "df.loc[:, ['Id', 'Price']].to_csv('df_predictions.csv', index=False)"
   ]
  },
  {
   "cell_type": "code",
   "execution_count": null,
   "id": "63a777d3",
   "metadata": {},
   "outputs": [],
   "source": [
    "# Сохранение CSV\n",
    "X_train.to_pickle('X_train.pkl')"
   ]
  },
  {
   "cell_type": "markdown",
   "id": "20745402",
   "metadata": {},
   "source": [
    "### Читает xlxs фаил"
   ]
  },
  {
   "cell_type": "code",
   "execution_count": null,
   "id": "1cfdab8a",
   "metadata": {},
   "outputs": [],
   "source": [
    "df = pd.read_excel(\"./GB.xlsx\")"
   ]
  },
  {
   "cell_type": "code",
   "execution_count": null,
   "id": "ae4b4966",
   "metadata": {},
   "outputs": [],
   "source": [
    "import xlsxwriter\n",
    "import pandas as pd\n",
    "from pandas import DataFrame\n",
    "\n",
    "path = ('...\\\\filename.xlsx')\n",
    "\n",
    "xl = pd.ExcelFile(path)\n",
    "\n",
    "print(xl.sheet_names)\n",
    "'Sheet1'\n",
    "df1 = xl.parse('Sheet1')"
   ]
  },
  {
   "cell_type": "code",
   "execution_count": null,
   "id": "76418f8d",
   "metadata": {},
   "outputs": [],
   "source": [
    "# Считать из файла номер листа(можно вписать название листа в файле)\n",
    "task = pd.read_excel(open('Задачи.xlsx', 'rb'),sheet_name=2,header=1)"
   ]
  },
  {
   "cell_type": "markdown",
   "id": "6ca75a04",
   "metadata": {},
   "source": [
    "#### Запись xlxs"
   ]
  },
  {
   "cell_type": "code",
   "execution_count": null,
   "id": "9f3699e0",
   "metadata": {},
   "outputs": [],
   "source": [
    "# Записать фаил и задать номер листа\n",
    "df.to_excel(\"Ответы к задачам.xlsx\",sheet_name='Sheet_name_1')"
   ]
  },
  {
   "cell_type": "code",
   "execution_count": null,
   "id": "d88d6be7",
   "metadata": {},
   "outputs": [],
   "source": [
    "# Дозаписать в фаил и задать номер другого листа\n",
    "with pd.ExcelWriter(\"Ответы к задачам.xlsx\", engine=\"openpyxl\", mode=\"a\") as writer:\n",
    "    df.to_excel(writer, sheet_name=\"Sheet_name_2\")"
   ]
  },
  {
   "cell_type": "markdown",
   "id": "0d04e248",
   "metadata": {},
   "source": [
    "### Читает фаил json"
   ]
  },
  {
   "cell_type": "code",
   "execution_count": null,
   "id": "f870f68b",
   "metadata": {},
   "outputs": [],
   "source": [
    "from PIL import Image\n",
    "import json\n",
    "from pandas.io.json import json_normalize\n",
    "#data = open(\"./P45.json\",encoding=\"utf8\")\n",
    "#data = json.loads(data.read())"
   ]
  },
  {
   "cell_type": "code",
   "execution_count": null,
   "id": "7db4c40c",
   "metadata": {},
   "outputs": [],
   "source": [
    "#data = json.load(\"./P45.json\")\n",
    "#data = pd.read_json(\"./P45.json\")"
   ]
  },
  {
   "cell_type": "markdown",
   "id": "e1eae160",
   "metadata": {},
   "source": [
    "https://pandas.pydata.org/docs/reference/api/pandas.io.json.read_json.html"
   ]
  },
  {
   "cell_type": "markdown",
   "id": "f44918cf",
   "metadata": {},
   "source": [
    "### Colab"
   ]
  },
  {
   "cell_type": "code",
   "execution_count": null,
   "id": "50924cc8",
   "metadata": {},
   "outputs": [],
   "source": [
    "from google.colab import files\n",
    "uploaded = files.upload()\n",
    "\n",
    "import io\n",
    "data = io.BytesIO(uploaded['Задача 1.xlsx'])\n",
    "\n",
    "df = pd.read_excel(data)\n",
    "df = pd.read_excel(data,sheet_name=2,header=1)\n",
    "\n",
    "url = 'copied_raw_GH_link'df1 = pd.read_csv(url)# Dataset is now stored in a Pandas Dataframe"
   ]
  },
  {
   "cell_type": "markdown",
   "id": "3543aa2e",
   "metadata": {},
   "source": [
    "#### Запись Colab"
   ]
  },
  {
   "cell_type": "code",
   "execution_count": null,
   "id": "7ac03b50",
   "metadata": {},
   "outputs": [],
   "source": [
    "# сохранить данные\n",
    "from google.colab import files\n",
    "files.download(\"data.csv\")"
   ]
  },
  {
   "cell_type": "markdown",
   "id": "5a37db38",
   "metadata": {},
   "source": [
    "#### Запись в формат .txt"
   ]
  },
  {
   "cell_type": "code",
   "execution_count": null,
   "id": "3824d0fa",
   "metadata": {},
   "outputs": [],
   "source": [
    "# Если ответом является нецелое число, то целую и дробную часть \n",
    "# необходимо разграничивать точкой, например, 0.421. \n",
    "# При необходимости округляйте дробную часть до трех знаков.\n",
    "file_answer = open(\"answer.txt\", \"w\")\n",
    "file_answer.write(repr(round(diffval, 3)))\n",
    "file_answer.close()"
   ]
  },
  {
   "cell_type": "markdown",
   "id": "0f02940b",
   "metadata": {},
   "source": [
    "### Перемещение файлов"
   ]
  },
  {
   "cell_type": "code",
   "execution_count": null,
   "id": "48326a84",
   "metadata": {},
   "outputs": [],
   "source": [
    "# Перемещение файлов\n",
    "import shutilfor\n",
    "import glob\n",
    "import os\n",
    "file in list(glob(os.path.join('sample_data', '*.csv'))):\n",
    "    shutil.move(file, 'test_dir')"
   ]
  },
  {
   "cell_type": "code",
   "execution_count": 9,
   "id": "8c65835d",
   "metadata": {},
   "outputs": [],
   "source": [
    "# Копирование файлов\n",
    "import shutilfor\n",
    "shutil.copy(\n",
    "    os.path.join('sample_data', 'README.md'),\n",
    "    os.path.join('test_dir')\n",
    "            )"
   ]
  },
  {
   "cell_type": "markdown",
   "id": "3cd2566e",
   "metadata": {},
   "source": [
    "#### Чтение нескольких похожих файлов"
   ]
  },
  {
   "cell_type": "code",
   "execution_count": null,
   "id": "a9d1f136",
   "metadata": {},
   "outputs": [],
   "source": [
    "from glob import glob # например file1, file2, file3\n",
    "stock_files = sorted(glob('data/file*.csv'))\n",
    "pd.concat((pd.read_csv(file) for file in stock_files)) # показывает индексы разных файло(0 и 0 и 0)\n",
    "pd.concat((pd.read_csv(file) for file in stock_files), ignore_index=True)# показывает обновленный индекс\n",
    "pd.concat((pd.read_csv(file) for file in stock_files), axis='columns') # если разные колонки и объединяем в один Data"
   ]
  },
  {
   "cell_type": "markdown",
   "id": "f66d1ac5",
   "metadata": {},
   "source": [
    "**Открываем картинку png,jpg и меняем размер**"
   ]
  },
  {
   "cell_type": "code",
   "execution_count": null,
   "id": "1cafda5d",
   "metadata": {},
   "outputs": [],
   "source": [
    "from PIL import Image\n",
    "# открываем файл\n",
    "im = Image.open(\"11.png\").convert('RGB')\n",
    "# меняем размер файла\n",
    "im = im.resize((1220,1000),resample=Image.NEAREST)\n",
    "# сохраняем файл\n",
    "im.save(\"11.png\")"
   ]
  },
  {
   "cell_type": "markdown",
   "id": "15db0b40",
   "metadata": {},
   "source": [
    "Открытие картинок в папках  \n",
    "https://github.com/Svetorus/Computer_vision/blob/master/Change%20Pixel%2C%20Change%20the%20image%20size.ipynb"
   ]
  },
  {
   "cell_type": "markdown",
   "id": "a1ffe889",
   "metadata": {},
   "source": [
    "<font color=\"blue\">DataFrame</font>"
   ]
  },
  {
   "cell_type": "code",
   "execution_count": null,
   "id": "143e79c7",
   "metadata": {},
   "outputs": [],
   "source": [
    "# Создание DataFrame\n",
    "df = pd.DataFrame({\n",
    "    'country':['Kazakhstan', 'Russia', 'Belarus', 'Ukraine'],\n",
    "    'population': [17.04, 143.5, 9.5, 45.5],\n",
    "    'square': [2724902, 17125191, 207600, 603628]\n",
    "})"
   ]
  },
  {
   "cell_type": "markdown",
   "id": "278a7e1d",
   "metadata": {},
   "source": [
    "### Общая информация по фрайму"
   ]
  },
  {
   "cell_type": "code",
   "execution_count": null,
   "id": "37f5d899",
   "metadata": {},
   "outputs": [],
   "source": [
    "# Смотрим таблицу(первые пять строк)\n",
    "df.head()\n",
    "df.head(5)"
   ]
  },
  {
   "cell_type": "code",
   "execution_count": null,
   "id": "6d0cd038",
   "metadata": {},
   "outputs": [],
   "source": [
    "# Общая информация\n",
    "df.info() "
   ]
  },
  {
   "cell_type": "code",
   "execution_count": null,
   "id": "70c64d0a",
   "metadata": {},
   "outputs": [],
   "source": [
    "# просмотр мин, сред, мах значений по колонкам\n",
    "df.describe()"
   ]
  },
  {
   "cell_type": "code",
   "execution_count": null,
   "id": "1a3dc334",
   "metadata": {},
   "outputs": [],
   "source": [
    "# показывает кол-во строк и столбцов\n",
    "df.shape"
   ]
  },
  {
   "cell_type": "code",
   "execution_count": null,
   "id": "97f0fb3f",
   "metadata": {},
   "outputs": [],
   "source": [
    "# Выводим типы данных\n",
    "df.dtypes"
   ]
  },
  {
   "cell_type": "code",
   "execution_count": null,
   "id": "63a911db",
   "metadata": {},
   "outputs": [],
   "source": [
    "# корреляция Frame\n",
    "df.corr()"
   ]
  },
  {
   "cell_type": "code",
   "execution_count": null,
   "id": "1d141fc5",
   "metadata": {},
   "outputs": [],
   "source": [
    "# размер всего фрэйма колонки * на строки\n",
    "df.size"
   ]
  },
  {
   "cell_type": "code",
   "execution_count": null,
   "id": "ea6ea73d",
   "metadata": {},
   "outputs": [],
   "source": [
    "# показывает NaN(количество пропущенных значений) по колонкам\n",
    "len(df)-df.count() \n",
    "# Количество пропущенных значений (в процентах)\n",
    "round((len(df) - df.count()) / len(df) * 100, 2).sort_values(ascending=False)"
   ]
  },
  {
   "cell_type": "code",
   "execution_count": null,
   "id": "b4c0840f",
   "metadata": {},
   "outputs": [],
   "source": [
    "# смотрим уникальные значения по каждой колонке\n",
    "df.nunique().sort_values()"
   ]
  },
  {
   "cell_type": "code",
   "execution_count": null,
   "id": "6866c804",
   "metadata": {},
   "outputs": [],
   "source": [
    "# Выводим кол-во дубликатов колонки number\n",
    "df[df['number'].duplicated()].shape"
   ]
  },
  {
   "cell_type": "code",
   "execution_count": null,
   "id": "9d99fc81",
   "metadata": {},
   "outputs": [],
   "source": [
    "# Просмотрите данные, описание и названия признаков в датасете. Описание нужно вывести в виде привычного,\n",
    "# аккуратно оформленного текста, без обозначений переноса строки, но с самими переносами и т.д.\n",
    "for line in df.DESCR.split('\\n'):\n",
    "    print(line)"
   ]
  },
  {
   "cell_type": "markdown",
   "id": "5f2fb96d",
   "metadata": {},
   "source": [
    "### Работа со  столбцами"
   ]
  },
  {
   "cell_type": "code",
   "execution_count": null,
   "id": "c8ab3fe3",
   "metadata": {},
   "outputs": [],
   "source": [
    "# Если столбцов много в DataFrame, DataFrame выводит начало столбцов и конец столбцов \n",
    "# Выводит все колонки\n",
    "df.columns.values\n",
    "# Выводит 100 колонок не обрезано\n",
    "pd.options.display.max_columns = 100 \n",
    "pd.set_option('display.max_columns', 100)\n",
    "# Сбросит все настройки\n",
    "pd.reset_option(\"^display\")\n",
    "# Сбросит max настройки\n",
    "pd.reset_option(\"max_rows\")\n",
    "pd.reset_option(\"display.min_rows\")\n",
    "# по умолчанию=усечь\n",
    "pd.set_option('display.expand_frame_repr', True)"
   ]
  },
  {
   "cell_type": "code",
   "execution_count": null,
   "id": "9bb09305",
   "metadata": {},
   "outputs": [],
   "source": [
    "# параметры для отображения одного большого DataFrame\n",
    "# Значения опций восстанавливаются автоматически при выходе из withблока\n",
    "with pd.option_context('display.max_rows', None, 'display.max_columns', None):\n",
    "    print (df)"
   ]
  },
  {
   "cell_type": "code",
   "execution_count": null,
   "id": "593b946d",
   "metadata": {},
   "outputs": [],
   "source": [
    "# выводим округление до 3 числа после нуля.\n",
    "df = round(df, 3)"
   ]
  },
  {
   "cell_type": "code",
   "execution_count": null,
   "id": "fd1e97b7",
   "metadata": {},
   "outputs": [],
   "source": [
    "# Сортировка по столбцу в порядке возрастания\n",
    "df.sort_values('col_1')\n",
    "# Сортировка по столбцу в порядке убывания\n",
    "df.sort_values(by=\"col_1\",ascending=False)\n",
    "# Сортировка столбцов в порядке убывания\n",
    "df.sort_values(by=[\"col_1\", \"col_2\"])\n",
    "# выбираем два столбца и сортируем в порядке убывания\n",
    "df.sort_values(by=[\"col_1\", \"col_2\"])[[\"col_1\", \"col_2\"]]\n",
    "# для сортировки DataFrame по индексу строки или меткам столбцов\n",
    "df.sort_index()\n",
    "\n",
    "# https://chel-center.ru/python-yfc/2021/02/26/pandas-sort-vashe-rukovodstvo-po-sortirovke-dannyh-v-python/"
   ]
  },
  {
   "cell_type": "code",
   "execution_count": null,
   "id": "8ac5f63a",
   "metadata": {},
   "outputs": [],
   "source": [
    "# Показывает колоноку col\n",
    "df['col']\n",
    "df.col\n",
    "# показывает колонки отдельно от фрэйма\n",
    "df[['col1', 'col2', 'col3']]\n",
    "# выводит колонки с 3 по 6\n",
    "df.iloc[:, 3:6]\n",
    "# выводит колонки с col1 по col4\n",
    "df.loc[:, 'col1':'col4']"
   ]
  },
  {
   "cell_type": "code",
   "execution_count": null,
   "id": "c333f9e1",
   "metadata": {},
   "outputs": [],
   "source": [
    "# Выводим значения колонки и кол-во.\n",
    "np.unique(df[\"col_1\"], return_counts=True)"
   ]
  },
  {
   "cell_type": "code",
   "execution_count": null,
   "id": "89ab4659",
   "metadata": {},
   "outputs": [],
   "source": [
    "# Проверяем min год постройки\n",
    "df.loc[df['HouseYear'] < 1910, :]\n",
    "df.loc[df['LifeSquare']-df['Square'] > 5, :]"
   ]
  },
  {
   "cell_type": "code",
   "execution_count": null,
   "id": "54eb983f",
   "metadata": {},
   "outputs": [],
   "source": [
    "# выводим весь фраим по значению'female' в колонке col1\n",
    "df.loc[df.col1=='female']\n",
    "df.loc[df.Credit_Default==1]['Years'].value_counts()"
   ]
  },
  {
   "cell_type": "code",
   "execution_count": null,
   "id": "5a221894",
   "metadata": {},
   "outputs": [],
   "source": [
    "# \n",
    "df.groupby('shop_id', as_index=False).aggregate({'col_1':'sum','col_2':'max'})\n",
    "#as_index=False ровно имена кол пиш"
   ]
  },
  {
   "cell_type": "code",
   "execution_count": null,
   "id": "91b756cc",
   "metadata": {},
   "outputs": [],
   "source": [
    "# меняем значение(колонка и значение)\n",
    "df.loc[df['col_1']==4,'col_1']=1\n",
    "# меняем значение(номер строки и номер колонки)\n",
    "df.at[617, 'Col_1'] = 30 "
   ]
  },
  {
   "cell_type": "code",
   "execution_count": null,
   "id": "3928099e",
   "metadata": {},
   "outputs": [],
   "source": [
    "# Показывает колоноку col_1 и строчки 1 и 2\n",
    "df.loc[['1', '2'], 'col_1']"
   ]
  },
  {
   "cell_type": "code",
   "execution_count": null,
   "id": "a27dd1ef",
   "metadata": {},
   "outputs": [],
   "source": [
    "# Отфильтровать по одной колонке и показать другие\n",
    "df[df.col_1 > 10][['col_3', 'col_2', 'col_1']]"
   ]
  },
  {
   "cell_type": "code",
   "execution_count": null,
   "id": "9d1f9a5e",
   "metadata": {},
   "outputs": [],
   "source": [
    "# просмотр названия всех колонок\n",
    "df.keys()\n",
    "df.columns"
   ]
  },
  {
   "cell_type": "code",
   "execution_count": null,
   "id": "857e32a3",
   "metadata": {},
   "outputs": [],
   "source": [
    "# Показывает типы колонок\n",
    "df.dtypes"
   ]
  },
  {
   "cell_type": "code",
   "execution_count": null,
   "id": "24596ac3",
   "metadata": {},
   "outputs": [],
   "source": [
    "# тип колонки\n",
    "df['name'].dtype\n",
    "\n",
    "df.select_dtypes(include='number').head() # выводим колонки с числовым типом\n",
    "df.select_dtypes(include='object').head() # выводим колонки с строчным типом\n",
    "df.select_dtypes(exclude='number').head() # исключаем колонки с числовым типом\n",
    "df.select_dtypes(include=['number','object','category','datetime']).head()"
   ]
  },
  {
   "cell_type": "code",
   "execution_count": null,
   "id": "2ef05579",
   "metadata": {},
   "outputs": [],
   "source": [
    "# показывает кол-во уникальных значений\n",
    "df.nunique()\n",
    "# выводим все значения в колонке\n",
    "np.unique(df['col1'], return_counts=True)\n",
    "# выводим все значения в колонке\n",
    "df['col1'].unique()"
   ]
  },
  {
   "cell_type": "code",
   "execution_count": null,
   "id": "25e090f3",
   "metadata": {},
   "outputs": [],
   "source": [
    "# Выводим значения колонки 'этаж' меньше 'этажность дома'.\n",
    "df.loc[df['этаж'] > df['этажность дома'], 'этож']\n",
    "# Выводим значения колонки 'этаж' меньше 'этажность дома'.\n",
    "df.loc[df['этаж'] > df['этажность дома'], :]\n",
    "# Выводим значения колонки 'площадь'<50 и 'кухня' не равно 5\n",
    "df.loc[(df['площадь'] < 50) & (df['кухня'] != 5), :]"
   ]
  },
  {
   "cell_type": "code",
   "execution_count": null,
   "id": "c707716b",
   "metadata": {},
   "outputs": [],
   "source": [
    "#выбрал колонки и отсортировал по одной\n",
    "df=df[['col_1', 'col_2','col_3']].sort_values(['col_1'])\n",
    "# выводим ровный заголовок as_index нам помогает\n",
    "df.groupby('Тип услуги',as_index=False).agg({'Сумма чека':'sum','Пациент':'count'})\n",
    "df.groupby(['Пол', 'Возраст'])['Дней'].sum()\n",
    "\n",
    "df.groupby(['Пол', 'Возраст'])['Дней'].agg(['sum', 'count'])\n",
    "\n",
    "df.groupby(['Пол', 'Возраст'])['Дней'].agg(['sum']).sort_values(by='sum', ascending=False).head(10)\n",
    "# \n",
    "df.groupby('Партия')['Рулон'].nunique().reset_index()"
   ]
  },
  {
   "cell_type": "markdown",
   "id": "3d726f0a",
   "metadata": {},
   "source": [
    "переименование"
   ]
  },
  {
   "cell_type": "code",
   "execution_count": null,
   "id": "25efc23b",
   "metadata": {},
   "outputs": [],
   "source": [
    "# переименование столбцов\n",
    "df = df.rename(index=str, columns={\"V1\": \"session_value\",\"V2\": \"value\"})\n",
    "df.rename(columns={'Country':'country_code'})\n",
    "# переименование столбцов\n",
    "df.columns = ['col1','col2']\n",
    "# переименование\n",
    "df.columns = df.columns.str.replace(' ', '_')\n",
    "# добавляем Х_ к названию всех колонок\n",
    "df.add_suffix('X_')"
   ]
  },
  {
   "cell_type": "markdown",
   "id": "3f367114",
   "metadata": {},
   "source": [
    "Добавить колонку"
   ]
  },
  {
   "cell_type": "code",
   "execution_count": null,
   "id": "c96d7b00",
   "metadata": {},
   "outputs": [],
   "source": [
    "# добавляем колонку \n",
    "df['name'] = df_1['col_1']"
   ]
  },
  {
   "cell_type": "code",
   "execution_count": null,
   "id": "cfdec7fc",
   "metadata": {},
   "outputs": [],
   "source": [
    "# Объединяем фрэймы\n",
    "df = pd.concat([df, df_1], axis=1)\n",
    "# соединяем два фрэйма по колонке CustomerId\n",
    "df = pd.merge(df,df_1,on='CustomerId')"
   ]
  },
  {
   "cell_type": "markdown",
   "id": "de91b793",
   "metadata": {},
   "source": [
    "Удаляем"
   ]
  },
  {
   "cell_type": "code",
   "execution_count": null,
   "id": "c5e9bddd",
   "metadata": {},
   "outputs": [],
   "source": [
    "# удаляем колоноку\n",
    "df = df.drop(\"Col\", axis=1)\n",
    "df.drop(['Col'], axis='columns')\n",
    "# удаляем неколько колонок\n",
    "df = df.drop(['Col_1', 'Col_2'], axis=1)\n",
    "# удалить любой столбец с пропущенными значениями\n",
    "df.dropna(inplace=True, axis=1)\n",
    "# выбрать порог и использовали параметрthresh-порог-это число ненулевых значений,\n",
    "# ,которые вы хотите, чтобы столбец имел\n",
    "df.dropna (thresh=int (df.shape[0]*.9), ось=1)"
   ]
  },
  {
   "cell_type": "markdown",
   "id": "8960048e",
   "metadata": {},
   "source": [
    "заменяем значения"
   ]
  },
  {
   "cell_type": "code",
   "execution_count": null,
   "id": "8db7e760",
   "metadata": {},
   "outputs": [],
   "source": [
    "# заменяем значения в колонке\n",
    "df[0] = df[0].replace('?', 'b') "
   ]
  },
  {
   "cell_type": "code",
   "execution_count": null,
   "id": "a59a3e27",
   "metadata": {},
   "outputs": [],
   "source": [
    "# нужно объединить две колонки,col и number(два типа str и int)\n",
    "df['{col}_number'] = \"{\" + df.col + \"}_\" + df.number.map(str)"
   ]
  },
  {
   "cell_type": "code",
   "execution_count": null,
   "id": "dfdaa430",
   "metadata": {},
   "outputs": [],
   "source": [
    "# Задаем имя индекса\n",
    "df.index.name = 'Country_Code'"
   ]
  },
  {
   "cell_type": "code",
   "execution_count": null,
   "id": "c9e9a1f9",
   "metadata": {},
   "outputs": [],
   "source": [
    "# заменяем значения mode\n",
    "df['col1'] = df['col1'].fillna(df['col1'].mode()[0])\n",
    "# заполняем NaN в колонке col1 на средние(median) из колонки col1\n",
    "df = df.fillna(({\"col1\":df.col1.median()}))\n",
    "# Заполняем пропуски из col_1 колонкой col_2\n",
    "df['col_1'] = df['col_1'].fillna(df['col_2'])"
   ]
  },
  {
   "cell_type": "code",
   "execution_count": null,
   "id": "d4e893d1",
   "metadata": {},
   "outputs": [],
   "source": [
    "# менять тип данных в колонках\n",
    "df[1] = df[1].astype(float)\n",
    "df['name'] = df['name'].astype(int)\n",
    "df.astype({'col1':'float', 'col2': 'int'})\n",
    "df =df.infer_objects()\n",
    "#data['Timestamp'] = pd.to_datetime(data['Timestamp'])\n",
    "#data['Timestamp'] = pd.to_numeric(data['Timestamp'])\n",
    "#data['Timestamp'].astype(str).astype(int)\n",
    "#datetime.fromtimestamp(df).strftime('%d-%m-%Y')\n",
    "#pd.to_datetime(df).strftime('%Y-%m-%d')"
   ]
  },
  {
   "cell_type": "code",
   "execution_count": null,
   "id": "46a0d1c4",
   "metadata": {},
   "outputs": [],
   "source": [
    "# Существует четыре способа преобразования столбцов в строку\n",
    "df['col_1'] = df['col_1'].astype(str)\n",
    "df['col_1'] = df['col_1'].values.astype(str)\n",
    "df['col_1'] = df['col_1'].map(str)\n",
    "df['col_1'] = df['col_1'].apply(str)"
   ]
  },
  {
   "cell_type": "code",
   "execution_count": null,
   "id": "de8b03d4",
   "metadata": {},
   "outputs": [],
   "source": [
    "#pandas.to_numeric() перевод все в числовое\n",
    "df[\"a\"] = pd.to_numeric(df[\"a\"]\n",
    "#можете использовать для  нескольких столбцов DataFrame с apply()\n",
    "df[[\"a\", \"b\"]] = df[[\"a\", \"b\"]].apply(pd.to_numeric)"
   ]
  },
  {
   "cell_type": "code",
   "execution_count": null,
   "id": "db8dd4d1",
   "metadata": {},
   "outputs": [],
   "source": [
    "#  заменяем значения в колонке(так как там только male and female, object на int)\n",
    "df.Gender, unique = pd.factorize(df.Gender)\n",
    "# def SeriesFactorizer(series):\n",
    "#     series, unique = pd.factorize(series)\n",
    "#     reference = {x: i for x, i in enumerate(unique)}\n",
    "#     print(reference)\n",
    "#     return series, reference\n",
    "\n",
    "# df.Gender, GenderRef = SeriesFactorizer(df.Gender)"
   ]
  },
  {
   "cell_type": "code",
   "execution_count": null,
   "id": "4348775b",
   "metadata": {},
   "outputs": [],
   "source": [
    "# все данные переводит в цифры(но цифры тоже номеруют по ходу)\n",
    "from sklearn.preprocessing import LabelEncoder\n",
    "le = LabelEncoder()\n",
    "df = df[df.columns[:]].apply(le.fit_transform)"
   ]
  },
  {
   "cell_type": "markdown",
   "id": "4bbd1440",
   "metadata": {},
   "source": [
    "Регулярки"
   ]
  },
  {
   "cell_type": "code",
   "execution_count": null,
   "id": "d94f0e9a",
   "metadata": {},
   "outputs": [],
   "source": [
    "# выводим только цифры в колонке \"col_1\"\n",
    "df[\"col_1\"].str.extract(r\"(\\d+\\.\\d+|\\d+)\")\n",
    "# выводим только строчные буквы в колонке \"col_2\"\n",
    "df[\"col_2\"].str.replace(r\"(\\d+\\.\\d+|\\d+)\",\"\")"
   ]
  },
  {
   "cell_type": "markdown",
   "id": "f18fd453",
   "metadata": {},
   "source": [
    "Nan"
   ]
  },
  {
   "cell_type": "code",
   "execution_count": null,
   "id": "f962544e",
   "metadata": {},
   "outputs": [],
   "source": [
    "# Количество пропущенных значений (в процентах)\n",
    "round((len(df) - df.count()) / len(df) * 100, 2).sort_values(ascending=False)\n",
    "# выводим значения только с NaN\n",
    "# смотрим пропуски в col_1\n",
    "df[df[\"col\"].isnull()]\n",
    "# выводим кол-во значений без NaN\n",
    "df.notnull().sum()\n",
    "df.notna().sum()\n",
    "# выводим кол-во значений с NaN\n",
    "df.isnull().sum()\n",
    "df.isna().sum()\n",
    "# выводим True если есть значений с NaN в столбце\n",
    "df.isna().any()\n",
    "df.isnull().sum(axis=0)\n",
    "# выводим значения только с NaN(без тильды)\n",
    "df[~df['Months'].notnull()]"
   ]
  },
  {
   "cell_type": "code",
   "execution_count": null,
   "id": "54a800f6",
   "metadata": {},
   "outputs": [],
   "source": [
    "# выводит весь фрайм + закрашивает красным где есть NaN\n",
    "df.style.highlight_null(null_color='#EA4335')"
   ]
  },
  {
   "cell_type": "code",
   "execution_count": null,
   "id": "12d59d08",
   "metadata": {},
   "outputs": [],
   "source": [
    "# заменяем NaN на 0\n",
    "df['col1'] = df['col1'].replace(np.nan, 0)\n",
    "# все NAN заменяет на 0\n",
    "df.fillna(0)\n",
    "# заполняем NaN в колонке col1 на средние из колонки col1\n",
    "df = df.fillna(({\"col1\":df.col1.median()}))"
   ]
  },
  {
   "cell_type": "code",
   "execution_count": null,
   "id": "894158f5",
   "metadata": {},
   "outputs": [],
   "source": [
    "# удалить любой столбец с пропущенными значениями\n",
    "df.dropna(inplace=True, axis=1)\n",
    "# выбрать порог и использовали параметр thresh-порог-это число ненулевых значений,\n",
    "# ,которые вы хотите, чтобы столбец имел\n",
    "df.dropna (thresh=int (df.shape[0]*.9), ось=1)"
   ]
  },
  {
   "cell_type": "code",
   "execution_count": null,
   "id": "a1061c8e",
   "metadata": {},
   "outputs": [],
   "source": [
    "# big_score,min_score-одинаковые значения в колонках(отбираем только эти колонки или индексы строк)\n",
    "df.filter(like = 'score', axis=0)"
   ]
  },
  {
   "cell_type": "markdown",
   "id": "cbf26e5c",
   "metadata": {},
   "source": [
    "поиск значений макс и мин"
   ]
  },
  {
   "cell_type": "code",
   "execution_count": null,
   "id": "bc28fec6",
   "metadata": {},
   "outputs": [],
   "source": [
    "# поиск значений макс и мин, в колонке\n",
    "df.max(),df.min()\n",
    "# выводит индекс мак или мин значения\n",
    "df['Col1'].idxmax()\n",
    "df['Col1'].idxmin()\n",
    "# поиск нескольких значений макс , в колонке\n",
    "df.nlargest(3)\n",
    "df.nlargest(2, 'Col1')\n",
    "# поиск нескольких значений мин , в колонке\n",
    "df.nsmallest(4)\n",
    "df.nsmallest(2, 'Col1')"
   ]
  },
  {
   "cell_type": "markdown",
   "id": "985be340",
   "metadata": {},
   "source": [
    "формат DATE"
   ]
  },
  {
   "cell_type": "code",
   "execution_count": null,
   "id": "039ddc95",
   "metadata": {},
   "outputs": [],
   "source": [
    "# Создаем колонку 2 перводим колонку 1 в формат DATE\n",
    "df['col_2'] = pd.to_datetime(df['col_1'])\n",
    "# Выводим промежуток по времени\n",
    "df_1 = (df['col_2'] > '2018-12-31') & (df['col_2'] <= '2019-12-31')"
   ]
  },
  {
   "cell_type": "code",
   "execution_count": null,
   "id": "34ac1b83",
   "metadata": {},
   "outputs": [],
   "source": [
    "# вывод строк содержащие значение(строчное)\n",
    "df[df['date'].str.contains('09.2014')]"
   ]
  },
  {
   "cell_type": "markdown",
   "id": "67b055da",
   "metadata": {},
   "source": [
    "транспонирование"
   ]
  },
  {
   "cell_type": "code",
   "execution_count": null,
   "id": "c50cdd61",
   "metadata": {},
   "outputs": [],
   "source": [
    "# транспонируем колонки(т.е. поврачиваем таблицу на 90°)\n",
    "df_T.transpose()\n",
    "# Выводим транспонирование и разделяем на колонки с пропусками:\n",
    "df_T.pivot(columns='col_1', values='col_2')\n",
    "# Выводим транспонирование и разделяем на колонки без пропусками:\n",
    "df_T = df_T.pivot_table(index=df_T.index, columns=['col_1'], values='col_2')\n",
    "df_T = df_T.apply(lambda x: pd.Series(x.dropna().values))"
   ]
  },
  {
   "cell_type": "code",
   "execution_count": null,
   "id": "ec4b9da2",
   "metadata": {},
   "outputs": [],
   "source": [
    "# Therapy - будущ колонки, expr - значения колонок\n",
    "df = df.pivot_table(index=df.index, columns=['Therapy'], values='expr')\n",
    "df = df.apply(lambda x: pd.Series(x.dropna().values))\n",
    "# Therapy - будущ колонки, expr - значения колонок\n",
    "df.pivot(columns='Therapy', values='expr')\n",
    "df.pivot(index='expr', columns='Therapy', values='expr')"
   ]
  },
  {
   "cell_type": "markdown",
   "id": "f9e5d2d5",
   "metadata": {},
   "source": [
    "индекс"
   ]
  },
  {
   "cell_type": "code",
   "execution_count": null,
   "id": "6f65751c",
   "metadata": {},
   "outputs": [],
   "source": [
    "# для сортировки DataFrame по индексу строки или меткам столбцов\n",
    "df.sort_index()"
   ]
  },
  {
   "cell_type": "code",
   "execution_count": 12,
   "id": "db2dd6fa",
   "metadata": {},
   "outputs": [],
   "source": [
    "# Сбросить значения индекса\n",
    "df.reset_index() # что вернет, начальный вид таблице: "
   ]
  },
  {
   "cell_type": "code",
   "execution_count": null,
   "id": "b7572e19",
   "metadata": {},
   "outputs": [],
   "source": [
    "# Выводим по индексу строку\n",
    "df.loc[df['Id'] == 11607, :]\n",
    "df.loc[df['Id'].isin([5927,8491,14865, 1435]), :]\n",
    "#Index_arr = df.loc[df['LifeSquare']-df['Square'] > 5, :].index\n",
    "#df.loc[Index_arr, :]"
   ]
  },
  {
   "cell_type": "code",
   "execution_count": null,
   "id": "2ca228bd",
   "metadata": {},
   "outputs": [],
   "source": [
    "# Объединяем фрэймы(df и train) и потом разделяем\n",
    "# Запоминаем train по индексу, чтобы потом разделить файлы.\n",
    "idx_split = train.shape[0]\n",
    "# Соединяем файлы тренировочный и тестовый для обработки данных.\n",
    "df = pd.concat([train, test],axis=0,ignore_index=False, sort=False)\n",
    "# Переназначаем индексы, удаляя дубли индексов.\n",
    "df.reset_index(drop=True, inplace=True)\n",
    "# Проверяем на наличие одинаковых индексов.\n",
    "df[df.index.duplicated()]\n",
    "# Выносим train из объединеного df\n",
    "train = df.iloc[:idx_split, :]\n",
    "# Выносим test из объединеного df.\n",
    "test = df.iloc[idx_split:, :]"
   ]
  },
  {
   "cell_type": "markdown",
   "id": "285382b5",
   "metadata": {},
   "source": [
    "### Работа со  строчками"
   ]
  },
  {
   "cell_type": "code",
   "execution_count": null,
   "id": "fe9b47e4",
   "metadata": {},
   "outputs": [],
   "source": [
    "# Выводит все колонки\n",
    "df.columns.values\n",
    "# Выводит до 100 строчек не обрезано,  по умолчанию=60\n",
    "pd.options.display.max_rows = 100\n",
    "pd.set_option('display.max_rows', 100)\n",
    "# Выводит от 100 строчек не обрезано, по умолчанию=10\n",
    "pd.set_option('display.min_rows', 100)\n",
    "# get.options чтобы вернуть текущее значение\n",
    "pd.get_option(\"display.max_rows\")\n",
    "# Сбросит все настройки\n",
    "pd.reset_option(\"^display\")\n",
    "# Сбросит max настройки\n",
    "pd.reset_option(\"max_rows\")\n",
    "pd.reset_option(\"display.min_rows\")\n",
    "# по умолчанию=усечь\n",
    "pd.set_option('display.expand_frame_repr', True)"
   ]
  },
  {
   "cell_type": "code",
   "execution_count": null,
   "id": "db716f4e",
   "metadata": {},
   "outputs": [],
   "source": [
    "pd.set_option('display.expand_frame_repr', False)\n",
    "# параметры для отображения одного большого DataFrame\n",
    "# Значения опций восстанавливаются автоматически при выходе из withблока\n",
    "with pd.option_context('display.max_rows', None, 'display.max_columns', None):\n",
    "    print (df)"
   ]
  },
  {
   "cell_type": "code",
   "execution_count": null,
   "id": "e97cee70",
   "metadata": {},
   "outputs": [],
   "source": [
    "# Смотрим первую строчку\n",
    "df.iloc[0]"
   ]
  },
  {
   "cell_type": "code",
   "execution_count": null,
   "id": "ca88f106",
   "metadata": {},
   "outputs": [],
   "source": [
    "# Смотрим вторую строчку\n",
    "df.loc['str_1']\n",
    "df.iloc[1]"
   ]
  },
  {
   "cell_type": "code",
   "execution_count": null,
   "id": "e8d5467e",
   "metadata": {},
   "outputs": [],
   "source": [
    "# выводят первые 7 строк\n",
    "df.head(7)\n",
    "df.loc[:6]\n",
    "df.iloc[:7]\n",
    "df.iloc[0:7]\n",
    "# 5 строк и 3 колонки выводим\n",
    "df.iloc[0:5, 0:3] \n",
    "# строчки с 0 до 9 и колонки 0 и 2\n",
    "df.iloc[0:10, [0,2]]"
   ]
  },
  {
   "cell_type": "code",
   "execution_count": null,
   "id": "3ab808df",
   "metadata": {},
   "outputs": [],
   "source": [
    "# Выводим строчки 1 и 2\n",
    "df.loc['str_1':'str_2', :]\n",
    "# Выводим строчки 1 и 2 в колонке 1\n",
    "df.loc[['str_1', 'str_2'], 'col_1']"
   ]
  },
  {
   "cell_type": "code",
   "execution_count": null,
   "id": "10383840",
   "metadata": {},
   "outputs": [],
   "source": [
    "# Выводим строчки=30 в колонке age\n",
    "df.loc[df.age==30,:].head(3)"
   ]
  },
  {
   "cell_type": "code",
   "execution_count": null,
   "id": "2ce84983",
   "metadata": {},
   "outputs": [],
   "source": [
    "# выводит в колонке col_1 все значение = 40\n",
    "df.loc[(df['col_1'] == 40)]"
   ]
  },
  {
   "cell_type": "code",
   "execution_count": null,
   "id": "d1e77f30",
   "metadata": {},
   "outputs": [],
   "source": [
    "# выводит все значения в 5 строке\n",
    "df.loc[5, :] "
   ]
  },
  {
   "cell_type": "code",
   "execution_count": null,
   "id": "a8e2e9c8",
   "metadata": {},
   "outputs": [],
   "source": [
    "# Фильтровать .Series\n",
    "series[series > 0]\n",
    "# иные методы обработки такого объекта по аналогии с диктом\n",
    "'d' in my_series3\n",
    "# Индекс можно поменять \n",
    "series.index = ['A', 'B', 'C', 'D']\n",
    "# можно получить список элементов и индексы, это values\n",
    "series.values"
   ]
  },
  {
   "cell_type": "code",
   "execution_count": null,
   "id": "4124f9fd",
   "metadata": {},
   "outputs": [],
   "source": [
    "# исключаем 1 и 5 строчку и 2 и 4 колонку\n",
    "df.loc[~df.index.isin([0, 4]), ~df.columns.isin(['V2', 'V4'])]"
   ]
  },
  {
   "cell_type": "code",
   "execution_count": null,
   "id": "e2d40794",
   "metadata": {},
   "outputs": [],
   "source": [
    "# выводит таблицу с конца\n",
    "df.loc[::-1].head() \n",
    "# меняет индекс с нуля и выводит\n",
    "df.loc[::-1].reset_index(drop=True).head() \n",
    "df.loc[:, ::-1].head()"
   ]
  },
  {
   "cell_type": "code",
   "execution_count": null,
   "id": "c98d7e9f",
   "metadata": {},
   "outputs": [],
   "source": [
    "#вывод фрейма по заданым параметрам колонок\n",
    "df.query(\"day_of_week=='Friday' & number==5\")\n",
    "df.query(\"Возраст >= 35 & Пол == 'М'\")"
   ]
  },
  {
   "cell_type": "code",
   "execution_count": null,
   "id": "9439319b",
   "metadata": {},
   "outputs": [],
   "source": [
    "# Сортировать по значениям колонки 'col' # ascending=False ставим обратный порядок\n",
    "df.sort_values(['col'],ascending=False)"
   ]
  },
  {
   "cell_type": "code",
   "execution_count": null,
   "id": "ece38034",
   "metadata": {},
   "outputs": [],
   "source": [
    "# показывает с дополнительным прономерованным индексом\n",
    "df.reset_index()"
   ]
  },
  {
   "cell_type": "code",
   "execution_count": null,
   "id": "40ab9a0f",
   "metadata": {},
   "outputs": [],
   "source": [
    "# выводим округление до 3 числа после нуля.\n",
    "df = round(df, 3)"
   ]
  },
  {
   "cell_type": "code",
   "execution_count": null,
   "id": "9d936dfd",
   "metadata": {},
   "outputs": [],
   "source": [
    "# показать Series как DataFrame\n",
    "df['one'].to_frame() "
   ]
  },
  {
   "cell_type": "code",
   "execution_count": null,
   "id": "4a2c249f",
   "metadata": {},
   "outputs": [],
   "source": [
    "# меняем значение(номер строки и номер колонки)\n",
    "df.at[617, 'Col_1'] = 30 "
   ]
  },
  {
   "cell_type": "code",
   "execution_count": null,
   "id": "d596e585",
   "metadata": {},
   "outputs": [],
   "source": [
    "# Разделяем значения по колонкам(где одно значение одна колонка) и доб в Data\n",
    "new_cols = pd.get_dummies(train[\"name\"])\n",
    "train = pd.concat([train, new_cols], axis=1).drop(\"name\", axis=1)\n",
    "#df = pd.get_dummies(df) во всем дата меняем значения на цифровые\n",
    "\n",
    "for cat_colname in df.select_dtypes(include='object').columns[1:]:#кроме первой колонки\n",
    "    df = pd.concat([df, pd.get_dummies(df[cat_colname], prefix=cat_colname)], axis=1)"
   ]
  },
  {
   "cell_type": "code",
   "execution_count": null,
   "id": "603c5626",
   "metadata": {},
   "outputs": [],
   "source": [
    "#char.array -based Конкатенация\n",
    "#Преобразуйте столбцы, чтобы chararrays как chararrays, а затем сложите их вместе.\n",
    "\n",
    "a = np.char.array(df['bar'].values)\n",
    "b = np.char.array(df['foo'].values)\n",
    "\n",
    "df['baz'] = (a + b' is ' + b).astype(str)\n",
    "\n",
    "#     bar foo\n",
    "# 0    1   a\n",
    "# 1    2   b\n",
    "# 2    3   c\n",
    "df['bar'] = df.bar.map(str) + \" is \" + df.foo"
   ]
  },
  {
   "cell_type": "code",
   "execution_count": null,
   "id": "b0a19bd2",
   "metadata": {},
   "outputs": [],
   "source": [
    "# вывод строк содержащие значение(строчное)\n",
    "df[df['date'].str.contains('09.2014')]"
   ]
  },
  {
   "cell_type": "markdown",
   "id": "90521f16",
   "metadata": {},
   "source": [
    "Удаляем"
   ]
  },
  {
   "cell_type": "code",
   "execution_count": null,
   "id": "403725d6",
   "metadata": {},
   "outputs": [],
   "source": [
    "# удалить строчку 1\n",
    "df = df.drop(1, axis=0)"
   ]
  },
  {
   "cell_type": "code",
   "execution_count": null,
   "id": "bc595f5d",
   "metadata": {},
   "outputs": [],
   "source": [
    "# удалить все строки, которые имеют пропущенное значение в колонке \"bin\"\n",
    "df.dropna(subset=['bin'],inplace=True)"
   ]
  },
  {
   "cell_type": "code",
   "execution_count": null,
   "id": "38eeb8ea",
   "metadata": {},
   "outputs": [],
   "source": [
    "# Убираем дубликаты\n",
    "df.drop_duplicates(inplace=True)"
   ]
  },
  {
   "cell_type": "code",
   "execution_count": null,
   "id": "3fdab155",
   "metadata": {},
   "outputs": [],
   "source": [
    "# Определите\n",
    "df.dropna(subset=['name', 'born'])"
   ]
  },
  {
   "cell_type": "markdown",
   "id": "633ed116",
   "metadata": {},
   "source": [
    "поиск значений макс и мин"
   ]
  },
  {
   "cell_type": "code",
   "execution_count": null,
   "id": "000823b1",
   "metadata": {},
   "outputs": [],
   "source": [
    "# поиск значений макс и мин, в колонке\n",
    "df.max()\n",
    "df.min()\n",
    "# выводит индекс мак или мин значения\n",
    "df['Col1'].idxmax()\n",
    "df['Col1'].idxmin()\n",
    "# поиск нескольких значений макс , в колонке\n",
    "df.nlargest(3), df.nlargest(2, 'Col1')\n",
    "# поиск нескольких значений мин , в колонке\n",
    "df.nsmallest(4), df.nsmallest(2, 'Col1')"
   ]
  },
  {
   "cell_type": "markdown",
   "id": "112ce2f9",
   "metadata": {},
   "source": [
    "Выделение разными цветами данных в таблице"
   ]
  },
  {
   "cell_type": "code",
   "execution_count": 10,
   "id": "73b775ed",
   "metadata": {},
   "outputs": [
    {
     "data": {
      "text/html": [
       "<style  type=\"text/css\" >\n",
       "#T_ba737_row0_col0,#T_ba737_row0_col3,#T_ba737_row1_col1,#T_ba737_row2_col0,#T_ba737_row2_col3,#T_ba737_row2_col4,#T_ba737_row4_col0,#T_ba737_row4_col2,#T_ba737_row4_col3,#T_ba737_row5_col2,#T_ba737_row5_col4,#T_ba737_row6_col1,#T_ba737_row6_col4,#T_ba737_row7_col1,#T_ba737_row7_col3,#T_ba737_row8_col1,#T_ba737_row9_col1,#T_ba737_row9_col3,#T_ba737_row9_col4{\n",
       "            color:  red;\n",
       "        }#T_ba737_row0_col1,#T_ba737_row0_col2,#T_ba737_row0_col4,#T_ba737_row1_col0,#T_ba737_row1_col2,#T_ba737_row1_col3,#T_ba737_row1_col4,#T_ba737_row2_col1,#T_ba737_row2_col2,#T_ba737_row3_col0,#T_ba737_row3_col1,#T_ba737_row3_col2,#T_ba737_row3_col3,#T_ba737_row3_col4,#T_ba737_row4_col1,#T_ba737_row4_col4,#T_ba737_row5_col0,#T_ba737_row5_col1,#T_ba737_row5_col3,#T_ba737_row6_col0,#T_ba737_row6_col2,#T_ba737_row6_col3,#T_ba737_row7_col0,#T_ba737_row7_col2,#T_ba737_row7_col4,#T_ba737_row8_col0,#T_ba737_row8_col2,#T_ba737_row8_col3,#T_ba737_row8_col4,#T_ba737_row9_col0,#T_ba737_row9_col2{\n",
       "            color:  black;\n",
       "        }</style><table id=\"T_ba737_\" ><thead>    <tr>        <th class=\"blank level0\" ></th>        <th class=\"col_heading level0 col0\" >A</th>        <th class=\"col_heading level0 col1\" >B</th>        <th class=\"col_heading level0 col2\" >C</th>        <th class=\"col_heading level0 col3\" >D</th>        <th class=\"col_heading level0 col4\" >E</th>    </tr></thead><tbody>\n",
       "                <tr>\n",
       "                        <th id=\"T_ba737_level0_row0\" class=\"row_heading level0 row0\" >0</th>\n",
       "                        <td id=\"T_ba737_row0_col0\" class=\"data row0 col0\" >-0.083028</td>\n",
       "                        <td id=\"T_ba737_row0_col1\" class=\"data row0 col1\" >0.951256</td>\n",
       "                        <td id=\"T_ba737_row0_col2\" class=\"data row0 col2\" >0.116149</td>\n",
       "                        <td id=\"T_ba737_row0_col3\" class=\"data row0 col3\" >-0.291062</td>\n",
       "                        <td id=\"T_ba737_row0_col4\" class=\"data row0 col4\" >0.336336</td>\n",
       "            </tr>\n",
       "            <tr>\n",
       "                        <th id=\"T_ba737_level0_row1\" class=\"row_heading level0 row1\" >1</th>\n",
       "                        <td id=\"T_ba737_row1_col0\" class=\"data row1 col0\" >0.763812</td>\n",
       "                        <td id=\"T_ba737_row1_col1\" class=\"data row1 col1\" >-0.771144</td>\n",
       "                        <td id=\"T_ba737_row1_col2\" class=\"data row1 col2\" >0.598548</td>\n",
       "                        <td id=\"T_ba737_row1_col3\" class=\"data row1 col3\" >1.784475</td>\n",
       "                        <td id=\"T_ba737_row1_col4\" class=\"data row1 col4\" >0.884444</td>\n",
       "            </tr>\n",
       "            <tr>\n",
       "                        <th id=\"T_ba737_level0_row2\" class=\"row_heading level0 row2\" >2</th>\n",
       "                        <td id=\"T_ba737_row2_col0\" class=\"data row2 col0\" >-0.293683</td>\n",
       "                        <td id=\"T_ba737_row2_col1\" class=\"data row2 col1\" >0.165777</td>\n",
       "                        <td id=\"T_ba737_row2_col2\" class=\"data row2 col2\" >0.416389</td>\n",
       "                        <td id=\"T_ba737_row2_col3\" class=\"data row2 col3\" >-0.442911</td>\n",
       "                        <td id=\"T_ba737_row2_col4\" class=\"data row2 col4\" >-1.402820</td>\n",
       "            </tr>\n",
       "            <tr>\n",
       "                        <th id=\"T_ba737_level0_row3\" class=\"row_heading level0 row3\" >3</th>\n",
       "                        <td id=\"T_ba737_row3_col0\" class=\"data row3 col0\" >0.815421</td>\n",
       "                        <td id=\"T_ba737_row3_col1\" class=\"data row3 col1\" >0.263544</td>\n",
       "                        <td id=\"T_ba737_row3_col2\" class=\"data row3 col2\" >2.131378</td>\n",
       "                        <td id=\"T_ba737_row3_col3\" class=\"data row3 col3\" >0.018689</td>\n",
       "                        <td id=\"T_ba737_row3_col4\" class=\"data row3 col4\" >0.150478</td>\n",
       "            </tr>\n",
       "            <tr>\n",
       "                        <th id=\"T_ba737_level0_row4\" class=\"row_heading level0 row4\" >4</th>\n",
       "                        <td id=\"T_ba737_row4_col0\" class=\"data row4 col0\" >-0.571998</td>\n",
       "                        <td id=\"T_ba737_row4_col1\" class=\"data row4 col1\" >1.165742</td>\n",
       "                        <td id=\"T_ba737_row4_col2\" class=\"data row4 col2\" >-0.316692</td>\n",
       "                        <td id=\"T_ba737_row4_col3\" class=\"data row4 col3\" >-1.660103</td>\n",
       "                        <td id=\"T_ba737_row4_col4\" class=\"data row4 col4\" >1.387498</td>\n",
       "            </tr>\n",
       "            <tr>\n",
       "                        <th id=\"T_ba737_level0_row5\" class=\"row_heading level0 row5\" >5</th>\n",
       "                        <td id=\"T_ba737_row5_col0\" class=\"data row5 col0\" >2.321122</td>\n",
       "                        <td id=\"T_ba737_row5_col1\" class=\"data row5 col1\" >0.283974</td>\n",
       "                        <td id=\"T_ba737_row5_col2\" class=\"data row5 col2\" >-0.321165</td>\n",
       "                        <td id=\"T_ba737_row5_col3\" class=\"data row5 col3\" >0.050315</td>\n",
       "                        <td id=\"T_ba737_row5_col4\" class=\"data row5 col4\" >-1.501157</td>\n",
       "            </tr>\n",
       "            <tr>\n",
       "                        <th id=\"T_ba737_level0_row6\" class=\"row_heading level0 row6\" >6</th>\n",
       "                        <td id=\"T_ba737_row6_col0\" class=\"data row6 col0\" >2.271820</td>\n",
       "                        <td id=\"T_ba737_row6_col1\" class=\"data row6 col1\" >-0.746929</td>\n",
       "                        <td id=\"T_ba737_row6_col2\" class=\"data row6 col2\" >1.247736</td>\n",
       "                        <td id=\"T_ba737_row6_col3\" class=\"data row6 col3\" >1.354448</td>\n",
       "                        <td id=\"T_ba737_row6_col4\" class=\"data row6 col4\" >-0.060975</td>\n",
       "            </tr>\n",
       "            <tr>\n",
       "                        <th id=\"T_ba737_level0_row7\" class=\"row_heading level0 row7\" >7</th>\n",
       "                        <td id=\"T_ba737_row7_col0\" class=\"data row7 col0\" >0.162251</td>\n",
       "                        <td id=\"T_ba737_row7_col1\" class=\"data row7 col1\" >-0.033584</td>\n",
       "                        <td id=\"T_ba737_row7_col2\" class=\"data row7 col2\" >0.741549</td>\n",
       "                        <td id=\"T_ba737_row7_col3\" class=\"data row7 col3\" >-0.878370</td>\n",
       "                        <td id=\"T_ba737_row7_col4\" class=\"data row7 col4\" >1.643357</td>\n",
       "            </tr>\n",
       "            <tr>\n",
       "                        <th id=\"T_ba737_level0_row8\" class=\"row_heading level0 row8\" >8</th>\n",
       "                        <td id=\"T_ba737_row8_col0\" class=\"data row8 col0\" >1.011132</td>\n",
       "                        <td id=\"T_ba737_row8_col1\" class=\"data row8 col1\" >-0.222865</td>\n",
       "                        <td id=\"T_ba737_row8_col2\" class=\"data row8 col2\" >1.591118</td>\n",
       "                        <td id=\"T_ba737_row8_col3\" class=\"data row8 col3\" >0.621783</td>\n",
       "                        <td id=\"T_ba737_row8_col4\" class=\"data row8 col4\" >0.202603</td>\n",
       "            </tr>\n",
       "            <tr>\n",
       "                        <th id=\"T_ba737_level0_row9\" class=\"row_heading level0 row9\" >9</th>\n",
       "                        <td id=\"T_ba737_row9_col0\" class=\"data row9 col0\" >0.462481</td>\n",
       "                        <td id=\"T_ba737_row9_col1\" class=\"data row9 col1\" >-0.555482</td>\n",
       "                        <td id=\"T_ba737_row9_col2\" class=\"data row9 col2\" >1.137917</td>\n",
       "                        <td id=\"T_ba737_row9_col3\" class=\"data row9 col3\" >-0.524654</td>\n",
       "                        <td id=\"T_ba737_row9_col4\" class=\"data row9 col4\" >-0.804669</td>\n",
       "            </tr>\n",
       "    </tbody></table>"
      ],
      "text/plain": [
       "<pandas.io.formats.style.Styler at 0x25b217ebee0>"
      ]
     },
     "execution_count": 10,
     "metadata": {},
     "output_type": "execute_result"
    }
   ],
   "source": [
    "# выделяет цветом красным отрицательные\n",
    "# P.S. вызывает ошибку если не int\n",
    "import pandas as pd\n",
    "import numpy as np\n",
    "df = pd.DataFrame({'A':np.random.normal(size=10),\n",
    "                   'B':np.random.normal(size=10),\n",
    "                   'C':np.random.normal(size=10),\n",
    "                   'D':np.random.normal(size=10),\n",
    "                   'E':np.random.normal(size=10)})\n",
    "def color_negative_red(val):\n",
    "    color = 'red' if val < 0 else 'black'\n",
    "    return 'color: %s' % color\n",
    "\n",
    "df.style.applymap(color_negative_red)"
   ]
  },
  {
   "cell_type": "code",
   "execution_count": 15,
   "id": "9cfe69d0",
   "metadata": {},
   "outputs": [],
   "source": [
    "# выделяет цветом желтым max в колонке(цвет можно менять)\n",
    "def highlight_max(series):\n",
    "    is_max = series == series.max() #series: true or false\n",
    "    return ['background-color: yellow' if t_f else '' for t_f in is_max]\n",
    "df.style.apply(highlight_max)"
   ]
  },
  {
   "cell_type": "code",
   "execution_count": 16,
   "id": "3b465bf4",
   "metadata": {},
   "outputs": [],
   "source": [
    "# выделяет цветом желтым max в колонке и красным отрицательные\n",
    "df.style.\\\n",
    "    applymap(color_negative_red).\\\n",
    "    apply(highlight_max)"
   ]
  },
  {
   "cell_type": "code",
   "execution_count": 17,
   "id": "b65128b7",
   "metadata": {},
   "outputs": [],
   "source": [
    "# заливает зеленым цветом в колонке значение(цвет можно менять)\n",
    "import seaborn as sns\n",
    "cmap = sns.light_palette(\"#34A853\", as_cmap=True)\n",
    "df.style.background_gradient(cmap=cmap)"
   ]
  },
  {
   "cell_type": "code",
   "execution_count": 18,
   "id": "d2f532e4",
   "metadata": {},
   "outputs": [],
   "source": [
    "# сбоку заливает красным цветом в колонке значение(цвет можно менять)\n",
    "df.style.bar(subset=['B'], color='#d65f5f')"
   ]
  },
  {
   "cell_type": "markdown",
   "id": "6947afed",
   "metadata": {},
   "source": [
    "Работа с NaN"
   ]
  },
  {
   "cell_type": "code",
   "execution_count": 19,
   "id": "0f416158",
   "metadata": {},
   "outputs": [],
   "source": [
    "# выводит весь фрайм + закрашивает красным где есть NaN(цвет можно менять)\n",
    "df.style.highlight_null(null_color='#EA4335')"
   ]
  },
  {
   "cell_type": "markdown",
   "id": "ebd2dc4d",
   "metadata": {},
   "source": [
    "## Ссылки на Графики  \n",
    "<div class=\"toc\" style=\"margin-top: 1em;\"><ul class=\"toc-item\"><li><span><a href=\"#Начало\" data-toc-modified-id=\"Начало-0.0.1\">Начало</a></span></li></ul></div>"
   ]
  },
  {
   "cell_type": "code",
   "execution_count": null,
   "id": "9ea5c05c",
   "metadata": {},
   "outputs": [],
   "source": [
    "<div class=\"toc\" style=\"margin-top: 1em;\"><ul class=\"toc-item\"><li><span><a href=\"#Начало\" data-toc-modified-id=\"Начало-0.0.1\">Начало</a></span></li></ul></div>"
   ]
  },
  {
   "cell_type": "markdown",
   "id": "cecfab7c",
   "metadata": {},
   "source": [
    "https://medium.com/swlh/your-ultimate-python-visualization-cheat-sheet-663318470db"
   ]
  },
  {
   "cell_type": "code",
   "execution_count": null,
   "id": "e3deef05",
   "metadata": {},
   "outputs": [],
   "source": [
    "# сделать график крупнее\n",
    "sns.set(rc={'figure.figsize': (9, 6)})"
   ]
  },
  {
   "cell_type": "code",
   "execution_count": null,
   "id": "6100a79f",
   "metadata": {},
   "outputs": [],
   "source": []
  },
  {
   "cell_type": "code",
   "execution_count": null,
   "id": "79f1d56c",
   "metadata": {},
   "outputs": [],
   "source": []
  }
 ],
 "metadata": {
  "kernelspec": {
   "display_name": "Python 3",
   "language": "python",
   "name": "python3"
  },
  "language_info": {
   "codemirror_mode": {
    "name": "ipython",
    "version": 3
   },
   "file_extension": ".py",
   "mimetype": "text/x-python",
   "name": "python",
   "nbconvert_exporter": "python",
   "pygments_lexer": "ipython3",
   "version": "3.8.8"
  }
 },
 "nbformat": 4,
 "nbformat_minor": 5
}
